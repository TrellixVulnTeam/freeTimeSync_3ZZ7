{
 "cells": [
  {
   "cell_type": "code",
   "execution_count": 1,
   "source": [
    "from datetime import datetime\r\n",
    "import random\r\n",
    "import time\r\n",
    "from icalendar import Calendar, Event\r\n",
    "from pytz import UTC\r\n",
    "def parseCal(file):\r\n",
    "    g = open(file,'rb')\r\n",
    "    gcal = Calendar.from_ical(g.read())\r\n",
    "    for component in gcal.walk():\r\n",
    "        if component.name == \"VEVENT\":\r\n",
    "            print(component.get('summary'))\r\n",
    "            print(component.get('dtstart').dt > component.get('dtend').dt)\r\n",
    "            #print(component.get('dtstamp'))\r\n",
    "    g.close()"
   ],
   "outputs": [],
   "metadata": {}
  },
  {
   "cell_type": "code",
   "execution_count": 2,
   "source": [
    "import sqlite3\r\n",
    "con = sqlite3.connect('temp.db')\r\n",
    "cur = con.cursor()\r\n",
    "\r\n",
    "def createTable():\r\n",
    "    cur.execute(\"\"\"create table if not exists userEvents (\r\n",
    "                    userId int primary key autoincrement,\r\n",
    "                    summary text,\r\n",
    "                    start datetime not null,\r\n",
    "                    end datetime not null\r\n",
    "        )\"\"\")\r\n",
    "\r\n",
    "def insertDates(file):\r\n",
    "    g = open(file,'rb')\r\n",
    "    gcal = Calendar.from_ical(g.read())\r\n",
    "    for component in gcal.walk():\r\n",
    "        if component.name == \"VEVENT\":\r\n",
    "            print(component.get('summary'))\r\n",
    "            print(component.get('dtstart').dt > component.get('dtend').dt)\r\n",
    "            cur.execute(\"\")\r\n",
    "    g.close()"
   ],
   "outputs": [],
   "metadata": {}
  },
  {
   "cell_type": "code",
   "execution_count": 6,
   "source": [
    "createTable()\r\n",
    "cur.execute(\"\"\"SELECT sql \r\n",
    "FROM sqlite_master \r\n",
    "WHERE name = 'userEvents';\"\"\").fetchall()"
   ],
   "outputs": [
    {
     "output_type": "execute_result",
     "data": {
      "text/plain": [
       "[('CREATE TABLE userEvents (\\n                    eventId integer primary key autoincrement,\\n                    summary text,\\n                    start datetime not null,\\n                    end datetime not null\\n        , userId, userId2 integer not null default 0)',)]"
      ]
     },
     "metadata": {},
     "execution_count": 6
    }
   ],
   "metadata": {}
  },
  {
   "cell_type": "code",
   "execution_count": 10,
   "source": [
    "userEvents = cur.execute(\"select start,end,userId2,summary from userEvents\").fetchall()\r\n",
    "cur.execute(\"update table userEvents\")\r\n",
    "for s in userEvents:\r\n",
    "    #datetime.strptime(dt_string, \"%d/%m/%Y %H:%M:%S\")\r\n",
    "    ...\r\n",
    "print(userEvents)\r\n"
   ],
   "outputs": [
    {
     "output_type": "stream",
     "name": "stdout",
     "text": [
      "[('2018-09-07 08:30:00+00:00', '2018-09-07 09:30:00+00:00', 0, 'Ex. Ep. Especial: IP/PROGI '), ('2015-09-07', '2015-09-12', 0, 'Conference'), ('2015-07-18', '2015-07-19', 0, 'Conference Early Fee'), ('2015-06-15', '2015-06-16', 0, 'Research Proceedings Track - Camera Ready'), ('2015-06-15', '2015-06-16', 0, 'Nectar Track - Submission of camera ready copies'), ('2015-06-15', '2015-06-16', 0, 'Industrial Proceedings Track - Camera Ready'), ('2015-06-15', '2015-06-16', 0, 'Demo Camera-ready paper due'), ('2015-06-10', '2015-06-11', 0, 'Doctoral Consortium - Paper submission deadline'), ('2015-06-01', '2015-06-02', 0, 'Demo Notification of acceptance'), ('2015-06-01', '2015-06-02', 0, 'Nectar Track - Notifications of acceptance'), ('2015-06-01', '2015-06-02', 0, 'Industrial Proceedings Track - Acceptance Notification'), ('2015-06-01', '2015-06-02', 0, 'Research Proceedings Track - Acceptance Notification'), ('2015-09-02', '2015-09-06', 0, 'Summer School'), ('2015-08-15', '2015-08-16', 0, 'Conference Late Fee'), ('2015-07-15', '2015-07-16', 0, 'Summer School Early Fee'), ('2015-05-08', '2015-05-09', 0, 'Demo submission deadline'), ('2015-05-04', '2015-05-05', 0, 'Nectar Track - Submission deadline'), ('2014-05-25', '2014-05-26', 0, 'Journal Track - Bi-Weekly Batch'), ('2015-04-04', '2015-04-05', 0, 'Tutorials - Revised Abstract Submission'), ('2015-04-02', '2015-04-03', 0, 'Industrial Proceedings Track - Paper Submission'), ('2015-04-02', '2015-04-03', 0, 'Research Proceedings Track - Paper Submission'), ('2015-03-27', '2015-03-28', 0, 'Workshops - Websites and Calls for Papers Online'), ('2015-03-26', '2015-03-27', 0, 'Research and Industrial Track  - Abstract Submission'), ('2015-03-26', '2015-03-27', 0, 'Industrial and Industrial Track - Abstract Submission'), ('2015-03-23', '2015-03-24', 0, 'Tutorials - Acceptance Notification'), ('2015-03-23', '2015-03-24', 0, 'Workshops - Acceptance Notification'), ('2015-03-02', '2015-03-03', 0, 'Workshops - Proposal Submission'), ('2015-03-02', '2015-03-03', 0, 'Tutorials - Proposal Submission'), ('2015-08-05', '2015-08-06', 0, 'Doctoral Consortium - Camera-ready'), ('2015-07-15', '2015-07-16', 0, 'Doctoral Consortium - Author notification'), ('2015-08-03', '2015-08-04', 0, 'Workshops - Camera Ready'), ('2015-09-01', '2015-09-02', 0, 'Tutorials - Tutorials Material'), ('2018-09-07 08:30:00+00:00', '2018-09-07 09:30:00+00:00', 0, 'Ex. Ep. Especial: IP/PROGI '), ('2015-09-07', '2015-09-12', 0, 'Conference'), ('2015-07-18', '2015-07-19', 0, 'Conference Early Fee'), ('2015-06-15', '2015-06-16', 0, 'Research Proceedings Track - Camera Ready'), ('2015-06-15', '2015-06-16', 0, 'Nectar Track - Submission of camera ready copies'), ('2015-06-15', '2015-06-16', 0, 'Industrial Proceedings Track - Camera Ready'), ('2015-06-15', '2015-06-16', 0, 'Demo Camera-ready paper due'), ('2015-06-10', '2015-06-11', 0, 'Doctoral Consortium - Paper submission deadline'), ('2015-06-01', '2015-06-02', 0, 'Demo Notification of acceptance'), ('2015-06-01', '2015-06-02', 0, 'Nectar Track - Notifications of acceptance'), ('2015-06-01', '2015-06-02', 0, 'Industrial Proceedings Track - Acceptance Notification'), ('2015-06-01', '2015-06-02', 0, 'Research Proceedings Track - Acceptance Notification'), ('2015-09-02', '2015-09-06', 0, 'Summer School'), ('2015-08-15', '2015-08-16', 0, 'Conference Late Fee'), ('2015-07-15', '2015-07-16', 0, 'Summer School Early Fee'), ('2015-05-08', '2015-05-09', 0, 'Demo submission deadline'), ('2015-05-04', '2015-05-05', 0, 'Nectar Track - Submission deadline'), ('2014-05-25', '2014-05-26', 0, 'Journal Track - Bi-Weekly Batch'), ('2015-04-04', '2015-04-05', 0, 'Tutorials - Revised Abstract Submission'), ('2015-04-02', '2015-04-03', 0, 'Industrial Proceedings Track - Paper Submission'), ('2015-04-02', '2015-04-03', 0, 'Research Proceedings Track - Paper Submission'), ('2015-03-27', '2015-03-28', 0, 'Workshops - Websites and Calls for Papers Online'), ('2015-03-26', '2015-03-27', 0, 'Research and Industrial Track  - Abstract Submission'), ('2015-03-26', '2015-03-27', 0, 'Industrial and Industrial Track - Abstract Submission'), ('2015-03-23', '2015-03-24', 0, 'Tutorials - Acceptance Notification'), ('2015-03-23', '2015-03-24', 0, 'Workshops - Acceptance Notification'), ('2015-03-02', '2015-03-03', 0, 'Workshops - Proposal Submission'), ('2015-03-02', '2015-03-03', 0, 'Tutorials - Proposal Submission'), ('2015-08-05', '2015-08-06', 0, 'Doctoral Consortium - Camera-ready'), ('2015-07-15', '2015-07-16', 0, 'Doctoral Consortium - Author notification'), ('2015-08-03', '2015-08-04', 0, 'Workshops - Camera Ready'), ('2015-09-01', '2015-09-02', 0, 'Tutorials - Tutorials Material')]\n"
     ]
    }
   ],
   "metadata": {}
  }
 ],
 "metadata": {
  "orig_nbformat": 4,
  "language_info": {
   "name": "python",
   "version": "3.9.7",
   "mimetype": "text/x-python",
   "codemirror_mode": {
    "name": "ipython",
    "version": 3
   },
   "pygments_lexer": "ipython3",
   "nbconvert_exporter": "python",
   "file_extension": ".py"
  },
  "kernelspec": {
   "name": "python3",
   "display_name": "Python 3.9.7 64-bit ('freeTimeSync': venv)"
  },
  "interpreter": {
   "hash": "6cf2131e407a95002632da0317426062d03712dd3a9e0f2f526f1278abca31d3"
  }
 },
 "nbformat": 4,
 "nbformat_minor": 2
}